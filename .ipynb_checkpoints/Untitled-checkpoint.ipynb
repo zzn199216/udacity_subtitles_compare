{
 "cells": [
  {
   "cell_type": "code",
   "execution_count": 236,
   "metadata": {
    "collapsed": true
   },
   "outputs": [],
   "source": [
    "import os\n",
    "import os.path\n",
    "import pandas as pd"
   ]
  },
  {
   "cell_type": "code",
   "execution_count": 237,
   "metadata": {
    "collapsed": true
   },
   "outputs": [],
   "source": [
    "rootdir = \"K:\\git\\subtitles\"\n",
    "eng_dir_raw = '\\locales\\en-us'\n",
    "chi_dir_raw = '\\locales\\zh-cn'"
   ]
  },
  {
   "cell_type": "code",
   "execution_count": 238,
   "metadata": {
    "collapsed": false
   },
   "outputs": [],
   "source": [
    "eng_files = set()\n",
    "chi_files = set()\n",
    "for parent,dirnames,filenames in os.walk(rootdir + eng_dir_raw): \n",
    "    eng_dir = parent\n",
    "    eng_files = set(filenames)\n",
    "for parent,dirnames,filenames in os.walk(rootdir + chi_dir_raw): \n",
    "    chi_dir = parent\n",
    "    chi_files = set(filenames)\n",
    "    "
   ]
  },
  {
   "cell_type": "code",
   "execution_count": 239,
   "metadata": {
    "collapsed": false
   },
   "outputs": [],
   "source": [
    "files_has_trans = chi_files & eng_files"
   ]
  },
  {
   "cell_type": "code",
   "execution_count": 240,
   "metadata": {
    "collapsed": false
   },
   "outputs": [],
   "source": [
    "test = ctd(eng_text_sp,chi_text_sp)"
   ]
  },
  {
   "cell_type": "code",
   "execution_count": 241,
   "metadata": {
    "collapsed": false,
    "scrolled": true
   },
   "outputs": [],
   "source": [
    "def ctd(eng_text_sp,chi_text_sp):\n",
    "    data = { 'english':None,\n",
    "            'chinese':None,\n",
    "            'time':None,}\n",
    "    text_save = pd.DataFrame(data,index = range(len(zip(eng_text_sp,chi_text_sp))/4+1))[1:]\n",
    "    count = 0\n",
    "    for i,j in zip(eng_text_sp,chi_text_sp):\n",
    "        index_now = count/4 + 1\n",
    "        if count % 4 == 1:\n",
    "            text_save['time'][index_now] = i\n",
    "        elif count % 4 == 2:\n",
    "            text_save['english'][index_now] = i\n",
    "            text_save['chinese'][index_now] = j\n",
    "        count += 1\n",
    "    return text_save"
   ]
  },
  {
   "cell_type": "code",
   "execution_count": 228,
   "metadata": {
    "collapsed": false
   },
   "outputs": [
    {
     "name": "stderr",
     "output_type": "stream",
     "text": [
      "C:\\Users\\frank\\Anaconda2\\lib\\site-packages\\ipykernel\\__main__.py:12: SettingWithCopyWarning: \n",
      "A value is trying to be set on a copy of a slice from a DataFrame\n",
      "\n",
      "See the caveats in the documentation: http://pandas.pydata.org/pandas-docs/stable/indexing.html#indexing-view-versus-copy\n"
     ]
    },
    {
     "ename": "KeyboardInterrupt",
     "evalue": "",
     "output_type": "error",
     "traceback": [
      "\u001b[1;31m---------------------------------------------------------------------------\u001b[0m",
      "\u001b[1;31mKeyboardInterrupt\u001b[0m                         Traceback (most recent call last)",
      "\u001b[1;32m<ipython-input-228-8555e7df52c8>\u001b[0m in \u001b[0;36m<module>\u001b[1;34m()\u001b[0m\n\u001b[0;32m     10\u001b[0m     \u001b[0mchi_text_sp\u001b[0m \u001b[1;33m=\u001b[0m \u001b[0mchi_text\u001b[0m\u001b[1;33m.\u001b[0m\u001b[0msplit\u001b[0m\u001b[1;33m(\u001b[0m\u001b[1;34m'\\n'\u001b[0m\u001b[1;33m)\u001b[0m\u001b[1;33m\u001b[0m\u001b[0m\n\u001b[0;32m     11\u001b[0m \u001b[1;33m\u001b[0m\u001b[0m\n\u001b[1;32m---> 12\u001b[1;33m     \u001b[0mfiles_dic\u001b[0m\u001b[1;33m[\u001b[0m\u001b[0mfiles\u001b[0m\u001b[1;33m]\u001b[0m \u001b[1;33m=\u001b[0m \u001b[0mctd\u001b[0m\u001b[1;33m(\u001b[0m\u001b[0meng_text_sp\u001b[0m\u001b[1;33m,\u001b[0m\u001b[0mchi_text_sp\u001b[0m\u001b[1;33m)\u001b[0m\u001b[1;33m\u001b[0m\u001b[0m\n\u001b[0m",
      "\u001b[1;32m<ipython-input-226-992e255574e9>\u001b[0m in \u001b[0;36mctd\u001b[1;34m(eng_text_sp, chi_text_sp)\u001b[0m\n\u001b[0;32m     12\u001b[0m             \u001b[0mtext_save\u001b[0m\u001b[1;33m[\u001b[0m\u001b[1;34m'english'\u001b[0m\u001b[1;33m]\u001b[0m\u001b[1;33m[\u001b[0m\u001b[0mindex_now\u001b[0m\u001b[1;33m]\u001b[0m \u001b[1;33m=\u001b[0m \u001b[0mi\u001b[0m\u001b[1;33m\u001b[0m\u001b[0m\n\u001b[0;32m     13\u001b[0m             \u001b[0mtext_save\u001b[0m\u001b[1;33m[\u001b[0m\u001b[1;34m'chinese'\u001b[0m\u001b[1;33m]\u001b[0m\u001b[1;33m[\u001b[0m\u001b[0mindex_now\u001b[0m\u001b[1;33m]\u001b[0m \u001b[1;33m=\u001b[0m \u001b[0mj\u001b[0m\u001b[1;33m\u001b[0m\u001b[0m\n\u001b[1;32m---> 14\u001b[1;33m         \u001b[0mcount\u001b[0m \u001b[1;33m+=\u001b[0m \u001b[1;36m1\u001b[0m\u001b[1;33m\u001b[0m\u001b[0m\n\u001b[0m\u001b[0;32m     15\u001b[0m     \u001b[1;32mreturn\u001b[0m \u001b[0mtext_save\u001b[0m\u001b[1;33m\u001b[0m\u001b[0m\n",
      "\u001b[1;31mKeyboardInterrupt\u001b[0m: "
     ]
    }
   ],
   "source": [
    "files_dic = dict()\n",
    "for files in files_has_trans:\n",
    "    eng_file_path = eng_dir +'/'+ files\n",
    "    cha_file_path = chi_dir +'/'+ files\n",
    "    \n",
    "    eng_text = open(eng_file_path).read()\n",
    "    eng_text_sp = eng_text.split('\\n')\n",
    "    \n",
    "    chi_text = open(cha_file_path).read()\n",
    "    chi_text_sp = chi_text.split('\\n')\n",
    "    \n",
    "    files_dic[files] = ctd(eng_text_sp,chi_text_sp)"
   ]
  },
  {
   "cell_type": "code",
   "execution_count": 242,
   "metadata": {
    "collapsed": false
   },
   "outputs": [
    {
     "data": {
      "text/plain": [
       "['BME-SGW2Kcs.srt',\n",
       " '4YP0K-5c310.srt',\n",
       " 'QdxjqsKP-PA.srt',\n",
       " 'lMYyrVjvfQU.srt',\n",
       " 'PRL8trOU7Rs.srt']"
      ]
     },
     "execution_count": 242,
     "metadata": {},
     "output_type": "execute_result"
    }
   ],
   "source": [
    "files_dic.keys()[:5]"
   ]
  },
  {
   "cell_type": "code",
   "execution_count": 235,
   "metadata": {
    "collapsed": false
   },
   "outputs": [
    {
     "data": {
      "text/html": [
       "<div>\n",
       "<table border=\"1\" class=\"dataframe\">\n",
       "  <thead>\n",
       "    <tr style=\"text-align: right;\">\n",
       "      <th></th>\n",
       "      <th>chinese</th>\n",
       "      <th>english</th>\n",
       "      <th>time</th>\n",
       "    </tr>\n",
       "  </thead>\n",
       "  <tbody>\n",
       "    <tr>\n",
       "      <th>1</th>\n",
       "      <td>首先 我们检查一下技能列表</td>\n",
       "      <td>So first, we check to see if our list of skill...</td>\n",
       "      <td>00:00:00,180 --&gt; 00:00:05,020</td>\n",
       "    </tr>\n",
       "    <tr>\n",
       "      <th>2</th>\n",
       "      <td>长度是否大于0</td>\n",
       "      <td>than 0.</td>\n",
       "      <td>00:00:05,020 --&gt; 00:00:06,020</td>\n",
       "    </tr>\n",
       "    <tr>\n",
       "      <th>3</th>\n",
       "      <td>如果大于0 我们开始添加 HTMLskillsStart</td>\n",
       "      <td>If it does, we start by appending our HTMLskil...</td>\n",
       "      <td>00:00:06,020 --&gt; 00:00:11,660</td>\n",
       "    </tr>\n",
       "    <tr>\n",
       "      <th>4</th>\n",
       "      <td>我们看到这里有一个已被格式化的技能</td>\n",
       "      <td>We can see here that we have a formatted skill,</td>\n",
       "      <td>00:00:11,660 --&gt; 00:00:15,050</td>\n",
       "    </tr>\n",
       "    <tr>\n",
       "      <th>5</th>\n",
       "      <td>这是对 HTMLskills 执行 .replace 方法后创建出来的</td>\n",
       "      <td>which is created by taking HTMLskills and call...</td>\n",
       "      <td>00:00:15,050 --&gt; 00:00:20,480</td>\n",
       "    </tr>\n",
       "    <tr>\n",
       "      <th>6</th>\n",
       "      <td>用技能列表中的第一项 替换数据占位符</td>\n",
       "      <td>and replacing the data place holder with the f...</td>\n",
       "      <td>00:00:20,480 --&gt; 00:00:26,530</td>\n",
       "    </tr>\n",
       "    <tr>\n",
       "      <th>7</th>\n",
       "      <td>最后 我们把刚才的技能添加到页面</td>\n",
       "      <td>Lastly, we append that skill to the page.</td>\n",
       "      <td>00:00:26,530 --&gt; 00:00:28,510</td>\n",
       "    </tr>\n",
       "    <tr>\n",
       "      <th>8</th>\n",
       "      <td>至于其他的三个项目</td>\n",
       "      <td>And for the remaining three items,</td>\n",
       "      <td>00:00:29,770 --&gt; 00:00:31,880</td>\n",
       "    </tr>\n",
       "    <tr>\n",
       "      <th>9</th>\n",
       "      <td>我们重复那段相同的代码 只需要修改索引就可以了</td>\n",
       "      <td>we repeat that same code, only changing the in...</td>\n",
       "      <td>00:00:31,880 --&gt; 00:00:35,660</td>\n",
       "    </tr>\n",
       "  </tbody>\n",
       "</table>\n",
       "</div>"
      ],
      "text/plain": [
       "                               chinese  \\\n",
       "1                        首先 我们检查一下技能列表   \n",
       "2                             长度是否大于0    \n",
       "3        如果大于0 我们开始添加 HTMLskillsStart    \n",
       "4                   我们看到这里有一个已被格式化的技能    \n",
       "5  这是对 HTMLskills 执行 .replace 方法后创建出来的   \n",
       "6                   用技能列表中的第一项 替换数据占位符   \n",
       "7                     最后 我们把刚才的技能添加到页面   \n",
       "8                           至于其他的三个项目    \n",
       "9              我们重复那段相同的代码 只需要修改索引就可以了   \n",
       "\n",
       "                                             english  \\\n",
       "1  So first, we check to see if our list of skill...   \n",
       "2                                            than 0.   \n",
       "3  If it does, we start by appending our HTMLskil...   \n",
       "4    We can see here that we have a formatted skill,   \n",
       "5  which is created by taking HTMLskills and call...   \n",
       "6  and replacing the data place holder with the f...   \n",
       "7          Lastly, we append that skill to the page.   \n",
       "8                 And for the remaining three items,   \n",
       "9  we repeat that same code, only changing the in...   \n",
       "\n",
       "                            time  \n",
       "1  00:00:00,180 --> 00:00:05,020  \n",
       "2  00:00:05,020 --> 00:00:06,020  \n",
       "3  00:00:06,020 --> 00:00:11,660  \n",
       "4  00:00:11,660 --> 00:00:15,050  \n",
       "5  00:00:15,050 --> 00:00:20,480  \n",
       "6  00:00:20,480 --> 00:00:26,530  \n",
       "7  00:00:26,530 --> 00:00:28,510  \n",
       "8  00:00:29,770 --> 00:00:31,880  \n",
       "9  00:00:31,880 --> 00:00:35,660  "
      ]
     },
     "execution_count": 235,
     "metadata": {},
     "output_type": "execute_result"
    }
   ],
   "source": [
    "files_dic['BME-SGW2Kcs.srt']"
   ]
  }
 ],
 "metadata": {
  "kernelspec": {
   "display_name": "Python 2",
   "language": "python",
   "name": "python2"
  },
  "language_info": {
   "codemirror_mode": {
    "name": "ipython",
    "version": 2
   },
   "file_extension": ".py",
   "mimetype": "text/x-python",
   "name": "python",
   "nbconvert_exporter": "python",
   "pygments_lexer": "ipython2",
   "version": "2.7.12"
  }
 },
 "nbformat": 4,
 "nbformat_minor": 0
}
